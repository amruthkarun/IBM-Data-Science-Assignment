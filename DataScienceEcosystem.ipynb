{
  "nbformat": 4,
  "nbformat_minor": 0,
  "metadata": {
    "colab": {
      "provenance": []
    },
    "kernelspec": {
      "name": "python3",
      "display_name": "Python 3"
    },
    "language_info": {
      "name": "python"
    }
  },
  "cells": [
    {
      "cell_type": "markdown",
      "source": [
        "# Data Science Tools and Ecosystem"
      ],
      "metadata": {
        "id": "tm_EbMOlEY3K"
      }
    },
    {
      "cell_type": "markdown",
      "source": [
        "In this notebook, Data Science Tools and Ecosystem are summarized."
      ],
      "metadata": {
        "id": "kcaOaMuNFRFq"
      }
    },
    {
      "cell_type": "markdown",
      "source": [
        "**Objectives:**\n",
        "\n",
        "*   Show examples of popular languages used by Data Scientists.\n",
        "*   Common libraries used by Data Scientists.\n",
        "*   Evaluation of arithmetic expressions in python.\n",
        "*   Conversion of minutes to hours in python\n",
        "\n"
      ],
      "metadata": {
        "id": "br-mch_SKE3r"
      }
    },
    {
      "cell_type": "markdown",
      "source": [
        "Some of the popular languages that Data Scientists use are:\n",
        "\n",
        "\n",
        "1.  Python\n",
        "2.  R\n",
        "3. Julia\n",
        "4. Scala\n",
        "\n"
      ],
      "metadata": {
        "id": "YwUn6ILlFvbr"
      }
    },
    {
      "cell_type": "markdown",
      "source": [
        "Some of the commonly used libraries used by Data Scientists include:\n",
        "1. Pandas\n",
        "2. SciKit-Learn\n",
        "3. SciPy\n",
        "4. PyTorch\n",
        "5. Numpy\n",
        "4. Matplotlib"
      ],
      "metadata": {
        "id": "LtqdRdJ4Gbvc"
      }
    },
    {
      "cell_type": "markdown",
      "source": [
        "\n",
        "|Data Science Tools |\n",
        "|-----|\n",
        "|Jupyter Lab |\n",
        "|Spyder |\n",
        "|R Studio|\n"
      ],
      "metadata": {
        "id": "EYbxbNg8Hn10"
      }
    },
    {
      "cell_type": "markdown",
      "source": [
        "### Below are a few examples of evaluating arithmetic expressions in Python"
      ],
      "metadata": {
        "id": "q8DOfiLEI4GD"
      }
    },
    {
      "cell_type": "code",
      "source": [
        "# This a simple arithmetic expression to mutiply then add integers\n",
        "(3*4)+5"
      ],
      "metadata": {
        "colab": {
          "base_uri": "https://localhost:8080/"
        },
        "id": "A_cJVKvuJIxr",
        "outputId": "8b491d38-3229-4fb3-9bac-900ed35dfba9"
      },
      "execution_count": 1,
      "outputs": [
        {
          "output_type": "execute_result",
          "data": {
            "text/plain": [
              "17"
            ]
          },
          "metadata": {},
          "execution_count": 1
        }
      ]
    },
    {
      "cell_type": "code",
      "source": [
        "# This will convert 200 minutes to hours by diving by 60\n",
        "200/60"
      ],
      "metadata": {
        "colab": {
          "base_uri": "https://localhost:8080/"
        },
        "id": "EHQaUD03JjQL",
        "outputId": "e6a36e07-4c11-4e29-c177-4c5cc090ecb0"
      },
      "execution_count": 3,
      "outputs": [
        {
          "output_type": "execute_result",
          "data": {
            "text/plain": [
              "3.3333333333333335"
            ]
          },
          "metadata": {},
          "execution_count": 3
        }
      ]
    },
    {
      "cell_type": "markdown",
      "source": [
        "## Author\n",
        "Amruth Karun M V"
      ],
      "metadata": {
        "id": "eaU3NU4dLqn8"
      }
    }
  ]
}